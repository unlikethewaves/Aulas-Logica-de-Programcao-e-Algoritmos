{
  "nbformat": 4,
  "nbformat_minor": 0,
  "metadata": {
    "colab": {
      "provenance": [],
      "authorship_tag": "ABX9TyMC2WW+qL3YHN13YhHooP5x",
      "include_colab_link": true
    },
    "kernelspec": {
      "name": "python3",
      "display_name": "Python 3"
    },
    "language_info": {
      "name": "python"
    }
  },
  "cells": [
    {
      "cell_type": "markdown",
      "metadata": {
        "id": "view-in-github",
        "colab_type": "text"
      },
      "source": [
        "<a href=\"https://colab.research.google.com/github/unlikethewaves/Aulas-Logica-de-Programcao-e-Algoritmos/blob/main/Untitled2.ipynb\" target=\"_parent\"><img src=\"https://colab.research.google.com/assets/colab-badge.svg\" alt=\"Open In Colab\"/></a>"
      ]
    },
    {
      "cell_type": "code",
      "source": [
        "import sqlite3\n",
        "\n",
        "# Conectar ao banco de dados\n",
        "conexao = sqlite3.connect('banco_de_dados.db')\n",
        "cursor = conexao.cursor()\n",
        "\n",
        "# Criar a tabela 'usuarios' se ela ainda não existir\n",
        "cursor.execute('''\n",
        "    CREATE TABLE IF NOT EXISTS usuarios (\n",
        "        id INTEGER PRIMARY KEY AUTOINCREMENT,\n",
        "        login TEXT NOT NULL,\n",
        "        senha TEXT NOT NULL\n",
        "    )\n",
        "''')\n",
        "\n",
        "# Dados dos logins e senhas\n",
        "dados_usuarios = [\n",
        "    ('pedro', '1234pedro'),\n",
        "    ('luana', 'lualuana'),\n",
        "    ('josemar', 'josemar5050'),\n",
        "    ('demetrius', 'demetriusmelhorprof'),\n",
        "    ('joão', 'joão4321')\n",
        "]\n",
        "\n",
        "# Inserir os dados na tabela 'usuarios'\n",
        "cursor.executemany(\"INSERT INTO usuarios (login, senha) VALUES (?, ?)\", dados_usuarios)\n",
        "\n",
        "# Salvar as alterações no banco de dados\n",
        "conexao.commit()\n",
        "\n",
        "# Fechar a conexão com o banco de dados\n",
        "cursor.close()\n",
        "conexao.close()\n",
        "\n",
        "print(\"Banco de dados e tabela criados com os logins e senhas inseridos.\")"
      ],
      "metadata": {
        "colab": {
          "base_uri": "https://localhost:8080/"
        },
        "id": "X-yq5R3AK1v4",
        "outputId": "e38b32e1-8e2c-4750-aaa5-b2577b0ec3f6"
      },
      "execution_count": 12,
      "outputs": [
        {
          "output_type": "stream",
          "name": "stdout",
          "text": [
            "Banco de dados e tabela criados com os logins e senhas inseridos.\n"
          ]
        }
      ]
    },
    {
      "cell_type": "code",
      "source": [
        "import sqlite3\n",
        "\n",
        "def autenticar_usuario(login, senha):\n",
        "    # Conectar ao banco de dados\n",
        "    conexao = sqlite3.connect('banco_de_dados.db')\n",
        "    cursor = conexao.cursor()\n",
        "\n",
        "    # Executar uma consulta para verificar as credenciais\n",
        "    cursor.execute(\"SELECT * FROM usuarios WHERE login=? AND senha=?\", (login, senha))\n",
        "    resultado = cursor.fetchone()\n",
        "\n",
        "    # Fechar a conexão com o banco de dados\n",
        "    cursor.close()\n",
        "    conexao.close()\n",
        "\n",
        "    # Verificar o resultado da consulta\n",
        "    if resultado:\n",
        "        return True\n",
        "    else:\n",
        "        return False\n",
        "\n",
        "# Exemplo de uso\n",
        "login = input(\"Digite o login: \")\n",
        "senha = input(\"Digite a senha: \")\n",
        "\n",
        "if autenticar_usuario(login, senha):\n",
        "    print(\"Autenticação bem-sucedida!\")\n",
        "else:\n",
        "    print(\"Login ou senha inválidos.\")"
      ],
      "metadata": {
        "colab": {
          "base_uri": "https://localhost:8080/"
        },
        "id": "3ngDIZ0yK8my",
        "outputId": "f77183f4-d35d-4cb3-bcc1-74e706c201f1"
      },
      "execution_count": 14,
      "outputs": [
        {
          "output_type": "stream",
          "name": "stdout",
          "text": [
            "Digite o login: pedro\n",
            "Digite a senha: 1234pedro\n",
            "Autenticação bem-sucedida!\n"
          ]
        }
      ]
    }
  ]
}